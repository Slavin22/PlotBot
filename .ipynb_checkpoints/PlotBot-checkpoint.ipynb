{
 "cells": [
  {
   "cell_type": "code",
   "execution_count": 1,
   "metadata": {},
   "outputs": [
    {
     "name": "stdout",
     "output_type": "stream",
     "text": [
      "0.1821726\n",
      "0.11566\n",
      "0.84961\n",
      "0.03474\n"
     ]
    }
   ],
   "source": [
    "# Import Dependencies\n",
    "import tweepy\n",
    "import time\n",
    "import json\n",
    "import random\n",
    "import pandas as pandas\n",
    "import matplotlib.pyplot as plt\n",
    "import seaborn as sns\n",
    "#from textblob import TextBlob (figure this out)\n",
    "import numpy as np\n",
    "\n",
    "# Import and Initialize Sentiment Analyzer\n",
    "from vaderSentiment.vaderSentiment import SentimentIntensityAnalyzer\n",
    "analyzer = SentimentIntensityAnalyzer()\n",
    "\n",
    "# Twitter API Keys\n",
    "consumer_key = \"1kiIH7jZF7PQUUJ8toc34qyRg\"\n",
    "consumer_secret = \"kz9fQqtyTzI82nGcJEewRwOfOg9NJgbZFKXH8SIq3mCuIvKJw5\"\n",
    "access_token = \"907734081244450817-sCHEcTJYiHb8A0PLWdJUe1K3pqwVPU7\"\n",
    "access_token_secret = \"QZnnI0g3IO5r9MLhpw9aVz0k5VOuCttM5w2bPduBR04NW\"\n",
    "\n",
    "# Use Tweepy to Authenticate our access\n",
    "auth = tweepy.OAuthHandler(consumer_key, consumer_secret)\n",
    "auth.set_access_token(access_token, access_token_secret)\n",
    "api = tweepy.API(auth, parser=tweepy.parsers.JSONParser())\n",
    "\n",
    "# Input twitter handle\n",
    "# Change this to input from mentions\n",
    "target_user = \"@Slavin22\"\n",
    "\n",
    "# Creeate empty lists\n",
    "compound = []\n",
    "positive = []\n",
    "neutral = []\n",
    "negative = []\n",
    "\n",
    "# Loop through 25 pages of tweets (total 500 tweets)\n",
    "for x in range(25):\n",
    "\n",
    "    # Pull last 500 tweets from target user\n",
    "    tweets = api.user_timeline(target_user, page=x)\n",
    "\n",
    "    # Loop through tweets in current page\n",
    "    for tweet in tweets:\n",
    "\n",
    "        # Append lists with sentiment analysis of each tweet\n",
    "        compound.append(analyzer.polarity_scores(tweet[\"text\"])[\"compound\"])\n",
    "        positive.append(analyzer.polarity_scores(tweet[\"text\"])[\"pos\"])\n",
    "        neutral.append(analyzer.polarity_scores(tweet[\"text\"])[\"neu\"])\n",
    "        negative.append(analyzer.polarity_scores(tweet[\"text\"])[\"neg\"])\n",
    "\n",
    "print(np.mean(compound))\n",
    "print(np.mean(positive))\n",
    "print(np.mean(neutral))\n",
    "print(np.mean(negative))"
   ]
  },
  {
   "cell_type": "code",
   "execution_count": null,
   "metadata": {
    "collapsed": true
   },
   "outputs": [],
   "source": []
  }
 ],
 "metadata": {
  "kernelspec": {
   "display_name": "Python [conda env:PythonData]",
   "language": "python",
   "name": "conda-env-PythonData-py"
  },
  "language_info": {
   "codemirror_mode": {
    "name": "ipython",
    "version": 3
   },
   "file_extension": ".py",
   "mimetype": "text/x-python",
   "name": "python",
   "nbconvert_exporter": "python",
   "pygments_lexer": "ipython3",
   "version": "3.6.1"
  }
 },
 "nbformat": 4,
 "nbformat_minor": 2
}
